{
 "cells": [
  {
   "cell_type": "markdown",
   "metadata": {
    "id": "0gptEv_UkLPf"
   },
   "source": [
    "# Code template for hand-in on reconstruction attacks.\n",
    "\n",
    "Advanced Topics in Machine Learning, U. Copenhagen, fall 2024\n",
    "\n",
    "Created by Rasmus Pagh with minor edits by Thomas Christensen\n",
    "\n",
    "Queries on a hidden dataset x from {-1,+1}^100 can be made via the query method below\n",
    "which calls a web API that allows dot product queries with vectors in {-1,+1}^100.\n",
    "To protect data, Laplace noise is added to responses. Using the techniques you have\n",
    "seen in the lecture it is possible to partially reconstruct the dataset using 200 queries.\n",
    "To make sure that you get a unique challenge, choose any unique string as your challenge\n",
    "identifier. The web API will keep track of the number of queries made for each identifier."
   ]
  },
  {
   "cell_type": "markdown",
   "metadata": {
    "id": "dyLpL0gdnquz"
   },
   "source": [
    "# Support function for querying the web API"
   ]
  },
  {
   "cell_type": "code",
   "execution_count": 2,
   "metadata": {
    "ExecuteTime": {
     "end_time": "2024-09-14T15:45:15.600395Z",
     "start_time": "2024-09-14T15:45:15.595744Z"
    },
    "id": "L1Mb8xGZkTPO"
   },
   "outputs": [
    {
     "name": "stdout",
     "output_type": "stream",
     "text": [
      "ok\n"
     ]
    }
   ],
   "source": [
    "import numpy as np\n",
    "import requests as rq\n",
    "\n",
    "# Retrieve answer to challenge for a given query\n",
    "def query(challenge_id, query_vector, submit=False):\n",
    "    # Only alphanumeric challenge_id and vextor entries in {-1,+1} are allowed:\n",
    "    assert(challenge_id.isalnum())\n",
    "    assert(np.max(np.minimum(np.abs(query_vector-1),np.abs(query_vector+1)))==0)\n",
    "\n",
    "    # if query array is 1d, make it 2d\n",
    "    if query_vector.ndim == 1:\n",
    "        query_vector = query_vector.reshape(1,-1)\n",
    "\n",
    "    payload = { 'challengeid': challenge_id, 'submit': submit,\n",
    "                'query': str(query_vector.tolist()) }\n",
    "    response = rq.post(\"https://baconbreaker.pythonanywhere.com/query\", data = payload).json()\n",
    "    if submit == False:\n",
    "        return np.array(eval(response['result']))\n",
    "    else:\n",
    "        return response['result']\n",
    "print(\"ok\")"
   ]
  },
  {
   "cell_type": "markdown",
   "metadata": {
    "id": "mgh9MtPmnyEl"
   },
   "source": [
    "# Making random queries to the API"
   ]
  },
  {
   "cell_type": "code",
   "execution_count": 3,
   "metadata": {
    "ExecuteTime": {
     "end_time": "2024-09-14T15:46:02.383063Z",
     "start_time": "2024-09-14T15:46:01.347798Z"
    },
    "colab": {
     "base_uri": "https://localhost:8080/"
    },
    "id": "rACAhWmE9zkq",
    "outputId": "52e8c823-fd26-4753-b84d-2caacabf06ed"
   },
   "outputs": [
    {
     "name": "stdout",
     "output_type": "stream",
     "text": [
      "[[ 1  1  1 ... -1 -1  1]\n",
      " [ 1  1 -1 ...  1 -1 -1]\n",
      " [-1  1  1 ...  1  1  1]\n",
      " ...\n",
      " [ 1  1  1 ...  1 -1  1]\n",
      " [-1 -1  1 ... -1 -1 -1]\n",
      " [-1 -1 -1 ...  1 -1  1]]\n",
      "[-11.  18.   9. -14.  -2.   5.  10.  16.  20.   6.  -5.  19.   4.  -1.\n",
      " -15.  -2. -35.  -7.   0.   1. -14.  -1.  17.  -7.  -5.  22.  14.   2.\n",
      " -17.  -8.   4. -27.  10. -12.  44. -14.  15. -46.  -5.   5.   7.  12.\n",
      "  16.   6.  18.   7. -21.  -2.  -6.  -0. -18. -20.   4. -42.   4.   3.\n",
      "  12.  -5.   6.   0.  13. -19.  -5. -44. -14.  25. -26. -12. -30.  13.\n",
      " -14. -40. -13. -11. -10.   7.  -2. -23.  19.   2. -19.  -2. -21.   4.\n",
      "  18.  -2. -22.   1.  -3.   1.  23.  10.  16.  32.   8.   8. -10.   4.\n",
      "  -2. -17.   5.   2. -10. -10.   3.  -1.  -5.  11.   7.   7. -38.   7.\n",
      "  -2.  -7.  11.   3.   4.  11.  -2.   3.  -1.  12.  22. -19.  -7. -11.\n",
      "   5.   9. -10.   9. -13.  -6.  -7.  -3.  10.   7.   4. -38.  31.  10.\n",
      "   7. -20. -10.   6.  -2.   5.  -6. -49. -20. -20. -14.  16.  10.   6.\n",
      "  13. -18.  37.   9.  28.   1.   8. -17.  15.   8.  -2.  21.  36. -30.\n",
      "   8.  25.  -8. -25.  16. -12. -38.  12.  -8.  -9.   6. -10.  21. -12.\n",
      " -23. -20.  17.   3.  14.  20.  -1.   0.  -3. -13.  12.  75.  -5.   0.\n",
      "   2. -17. -36.  12.]\n"
     ]
    }
   ],
   "source": [
    "challenge_id = 'RunxingJia78911' # identifier for hidden dataset\n",
    "n = 100 # number of entries in hidden dataset\n",
    "num_queries = 2*n # number of queries to be asked\n",
    "\n",
    "queries = np.random.choice([-1,+1], size=(num_queries,n)) # Set of random queries\n",
    "print(queries)\n",
    "query_results = query(challenge_id, queries)\n",
    "\n",
    "print(query_results)\n"
   ]
  },
  {
   "cell_type": "markdown",
   "metadata": {
    "id": "uiUoCqxtknZj"
   },
   "source": [
    "# Baseline reconstruction attack: Guess equals the best query\n",
    "\n",
    "Copy the notebook and replace with your attack. The first submission for a given challenge_id is stored on the server and on the leaderboard: http://baconbreaker.pythonanywhere.com/leaderboard/?n=100"
   ]
  },
  {
   "cell_type": "markdown",
   "metadata": {
    "id": "wBzhULS8lfJf"
   },
   "source": [
    "**Tip**: to solve a linear program you can use the following import:\n",
    "\n",
    "```\n",
    "from scipy.optimize import linprog\n",
    "```\n",
    "\n"
   ]
  },
  {
   "cell_type": "code",
   "execution_count": 16,
   "metadata": {
    "ExecuteTime": {
     "end_time": "2024-09-14T15:48:04.805258Z",
     "start_time": "2024-09-14T15:48:04.463845Z"
    },
    "colab": {
     "base_uri": "https://localhost:8080/"
    },
    "id": "KNEVYeK5klgu",
    "outputId": "ff3f94ae-591f-45ca-f909-09181cb8ffcc"
   },
   "outputs": [
    {
     "name": "stdout",
     "output_type": "stream",
     "text": [
      "\n",
      "Reconstruction attack achieves fraction 0.46 correct values\n"
     ]
    }
   ],
   "source": [
    "best_query_number = np.argmax(query_results)\n",
    "best_query = queries[best_query_number]\n",
    "best_query_result = query(challenge_id, best_query, submit=True)\n",
    "print(f\"\\nReconstruction attack achieves fraction {(1 + best_query_result / n) / 2} correct values\")"
   ]
  },
  {
   "cell_type": "code",
   "execution_count": 48,
   "metadata": {},
   "outputs": [
    {
     "name": "stdout",
     "output_type": "stream",
     "text": [
      "queries: (200, 100)\n",
      "query_results: (200,)\n",
      "A_ub: (200, 100)\n",
      "b_ub: (200,)\n",
      "Linear programming failed: The problem is infeasible. (HiGHS Status 8: model_status is Infeasible; primal_status is Basic)\n",
      "Reconstructed x: [ 1  1 -1  1 -1  1 -1  1  1  1  1 -1 -1  1 -1 -1 -1  1 -1  1  1 -1  1 -1\n",
      " -1  1  1 -1 -1 -1  1 -1  1  1  1  1 -1 -1 -1 -1 -1 -1 -1  1 -1 -1 -1 -1\n",
      " -1  1 -1 -1  1 -1  1 -1 -1 -1  1 -1 -1 -1 -1  1  1 -1  1 -1 -1 -1  1 -1\n",
      " -1 -1  1 -1  1  1 -1 -1  1 -1  1  1 -1  1 -1 -1 -1  1  1  1  1 -1 -1 -1\n",
      " -1  1 -1 -1]\n",
      "\n",
      "Reconstruction attack achieves fraction 0.51 correct values\n"
     ]
    }
   ],
   "source": [
    "from scipy.optimize import linprog\n",
    "import numpy as np\n",
    "\n",
    "# 假设 challenge_id 和 n 的定义\n",
    "challenge_id = 'kivkiv677899kivki'\n",
    "n = 100  # 数据集大小\n",
    "num_queries = 2*n  # 查询次数上限\n",
    "\n",
    "# 生成随机查询向量，每个查询向量长度为 n\n",
    "queries = np.random.choice([-1, 1], size=(num_queries, n))\n",
    "print(\"queries:\",queries.shape)\n",
    "\n",
    "# 获取查询结果\n",
    "query_results = query(challenge_id, queries)\n",
    "print(\"query_results:\",query_results.shape)\n",
    "\n",
    "# 构建线性规划问题\n",
    "c = np.ones(n)  # 目标是最小化L1距离\n",
    "epsilon = 30  # 设置容差，先尝试更大的值\n",
    "\n",
    "# 使用简化的正向约束\n",
    "A_ub = queries  # 只保留正向查询矩阵，简化问题\n",
    "b_ub = query_results + epsilon  # 只使用正向约束的上界\n",
    "\n",
    "print(\"A_ub:\",A_ub.shape)\n",
    "print(\"b_ub:\",b_ub.shape)\n",
    "\n",
    "# 设置变量边界，限制 x 在 [0, 1] 之间\n",
    "bounds = [(-1, 1) for _ in range(n)]  # 设置为 [0, 1]，方便之后用 np.sign 转换为 -1 和 1\n",
    "\n",
    "# 使用 linprog 求解线性规划\n",
    "res = linprog(c, A_ub=A_ub, b_ub=b_ub, bounds=bounds, method='highs')  # 使用 highs 方法求解\n",
    "\n",
    "# 提取重建结果\n",
    "if res.success:\n",
    "    print(\"success!!\")\n",
    "    x_reconstructed = np.sign(res.x)  # 将结果转换为 -1 或 1\n",
    "else:\n",
    "    print(f\"Linear programming failed: {res.message}\")\n",
    "    x_reconstructed = np.random.choice([-1, 1], size=n)  # 如果失败，使用随机结果\n",
    "\n",
    "# 输出重建结果\n",
    "print(f\"Reconstructed x: {x_reconstructed}\")\n",
    "best_query_result = query(challenge_id, x_reconstructed, submit=True)\n",
    "print(f\"\\nReconstruction attack achieves fraction {(1 + best_query_result / n) / 2} correct values\")\n"
   ]
  },
  {
   "cell_type": "code",
   "execution_count": 6,
   "metadata": {},
   "outputs": [
    {
     "name": "stdout",
     "output_type": "stream",
     "text": [
      "queries: (200, 100)\n",
      "query_results: (200,)\n",
      "c: (300,)\n",
      "A_ub: (400, 300)\n",
      "b_ub: (400,)\n",
      "(300,)\n",
      "Reconstructed x: [ 1.  1.  1. -1.  1. -1. -1. -1. -1.  1.  1.  1.  1. -1. -1.  1. -1.  1.\n",
      "  1. -1.  1.  1. -1. -1.  1.  1.  1.  1. -1.  1.  1. -1.  1.  1. -1. -1.\n",
      "  1.  1.  1. -1. -1.  1. -1. -1.  1.  1.  1. -1. -1. -1. -1. -1.  1.  1.\n",
      " -1. -1.  1.  1. -1.  1.  1.  1.  1.  1.  1.  1. -1. -1. -1. -1.  1.  1.\n",
      " -1. -1. -1.  1. -1. -1. -1.  1. -1. -1. -1.  1. -1. -1.  1. -1.  1.  1.\n",
      "  1.  1.  1.  1. -1.  1.  1.  1. -1. -1.]\n",
      "\n",
      "Reconstruction attack achieves fraction 0.89 correct values\n"
     ]
    }
   ],
   "source": [
    "import numpy as np\n",
    "from scipy.optimize import linprog\n",
    "\n",
    "n = 100        \n",
    "t = 2 * n       \n",
    "lambda_ = 10    \n",
    "challenge_id = 'RunxingJia78911'\n",
    "\n",
    "\n",
    "queries = np.random.choice([-1, 1], size=(t, n))\n",
    "print(\"queries:\",queries.shape)\n",
    "\n",
    "\n",
    "query_results = query(challenge_id, queries)\n",
    "print(\"query_results:\",query_results.shape)\n",
    "\n",
    "num_vars = n + t \n",
    "\n",
    "#Coefficients of the objective function\n",
    "c = np.hstack([np.zeros(n), np.ones(t)])\n",
    "\n",
    "print(\"c:\",c.shape)\n",
    "A_ub = []\n",
    "b_ub = []\n",
    "\n",
    "for j in range(t):\n",
    "    q = queries[j]\n",
    "    y = query_results[j]\n",
    "    \n",
    "    # q_j, x⟩ - y_j - e_j ≤ 0\n",
    "    A_row = np.hstack([q, np.zeros(t)])\n",
    "    A_row[n + j] = -1  #  -e_j\n",
    "    A_ub.append(A_row)\n",
    "    b_ub.append(y)\n",
    "    \n",
    "    # -⟨q_j, x⟩ + y_j - e_j ≤ 0\n",
    "    A_row = np.hstack([-q, np.zeros(t)])\n",
    "    A_row[n + j] = -1  #  -e_j\n",
    "    A_ub.append(A_row)\n",
    "    b_ub.append(-y)\n",
    "\n",
    "A_ub = np.array(A_ub)\n",
    "b_ub = np.array(b_ub)\n",
    "\n",
    "print(\"A_ub:\",A_ub.shape)\n",
    "print(\"b_ub:\",b_ub.shape)\n",
    "\n",
    "bounds = [(-1, 1)] * n + [(0, None)] * t\n",
    "\n",
    "result = linprog(c, A_ub=A_ub, b_ub=b_ub, bounds=bounds, method='highs')\n",
    "print(result.x.shape)\n",
    "\n",
    "if result.success:\n",
    "    x_estimated = result.x[:n]\n",
    "    #  -1 or 1\n",
    "    x_reconstructed = np.sign(x_estimated)\n",
    "    \n",
    "else:\n",
    "    print(\"fail!!!\")\n",
    "\n",
    "\n",
    "print(f\"Reconstructed x: {x_reconstructed}\")\n",
    "best_query_result = query(challenge_id, x_reconstructed, submit=True)\n",
    "print(f\"\\nReconstruction attack achieves fraction {(1 + best_query_result / n) / 2} correct values\")\n",
    "\n"
   ]
  }
 ],
 "metadata": {
  "colab": {
   "provenance": []
  },
  "kernelspec": {
   "display_name": "Python 3 (ipykernel)",
   "language": "python",
   "name": "python3"
  },
  "language_info": {
   "codemirror_mode": {
    "name": "ipython",
    "version": 3
   },
   "file_extension": ".py",
   "mimetype": "text/x-python",
   "name": "python",
   "nbconvert_exporter": "python",
   "pygments_lexer": "ipython3",
   "version": "3.8.19"
  }
 },
 "nbformat": 4,
 "nbformat_minor": 0
}
