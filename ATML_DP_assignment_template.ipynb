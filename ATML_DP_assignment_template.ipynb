{
 "cells": [
  {
   "cell_type": "markdown",
   "metadata": {
    "id": "0gptEv_UkLPf"
   },
   "source": [
    "# Code template for hand-in on reconstruction attacks.\n",
    "\n",
    "Advanced Topics in Machine Learning, U. Copenhagen, fall 2024\n",
    "\n",
    "Created by Rasmus Pagh with minor edits by Thomas Christensen\n",
    "\n",
    "Queries on a hidden dataset x from {-1,+1}^100 can be made via the query method below\n",
    "which calls a web API that allows dot product queries with vectors in {-1,+1}^100.\n",
    "To protect data, Laplace noise is added to responses. Using the techniques you have\n",
    "seen in the lecture it is possible to partially reconstruct the dataset using 200 queries.\n",
    "To make sure that you get a unique challenge, choose any unique string as your challenge\n",
    "identifier. The web API will keep track of the number of queries made for each identifier."
   ]
  },
  {
   "cell_type": "markdown",
   "metadata": {
    "id": "dyLpL0gdnquz"
   },
   "source": [
    "# Support function for querying the web API"
   ]
  },
  {
   "cell_type": "code",
   "execution_count": 8,
   "metadata": {
    "ExecuteTime": {
     "end_time": "2024-09-14T15:45:15.600395Z",
     "start_time": "2024-09-14T15:45:15.595744Z"
    },
    "id": "L1Mb8xGZkTPO"
   },
   "outputs": [
    {
     "name": "stdout",
     "output_type": "stream",
     "text": [
      "ok\n"
     ]
    }
   ],
   "source": [
    "import numpy as np\n",
    "import requests as rq\n",
    "\n",
    "# Retrieve answer to challenge for a given query\n",
    "def query(challenge_id, query_vector, submit=False):\n",
    "    # Only alphanumeric challenge_id and vextor entries in {-1,+1} are allowed:\n",
    "    assert(challenge_id.isalnum())\n",
    "    assert(np.max(np.minimum(np.abs(query_vector-1),np.abs(query_vector+1)))==0)\n",
    "\n",
    "    # if query array is 1d, make it 2d\n",
    "    if query_vector.ndim == 1:\n",
    "        query_vector = query_vector.reshape(1,-1)\n",
    "\n",
    "    payload = { 'challengeid': challenge_id, 'submit': submit,\n",
    "                'query': str(query_vector.tolist()) }\n",
    "    response = rq.post(\"https://baconbreaker.pythonanywhere.com/query\", data = payload).json()\n",
    "    if submit == False:\n",
    "        return np.array(eval(response['result']))\n",
    "    else:\n",
    "        return response['result']\n",
    "print(\"ok\")"
   ]
  },
  {
   "cell_type": "markdown",
   "metadata": {
    "id": "mgh9MtPmnyEl"
   },
   "source": [
    "# Making random queries to the API"
   ]
  },
  {
   "cell_type": "code",
   "execution_count": 9,
   "metadata": {
    "ExecuteTime": {
     "end_time": "2024-09-14T15:46:02.383063Z",
     "start_time": "2024-09-14T15:46:01.347798Z"
    },
    "colab": {
     "base_uri": "https://localhost:8080/"
    },
    "id": "rACAhWmE9zkq",
    "outputId": "52e8c823-fd26-4753-b84d-2caacabf06ed"
   },
   "outputs": [
    {
     "name": "stdout",
     "output_type": "stream",
     "text": [
      "[[-1  1  1 ...  1 -1  1]\n",
      " [-1 -1 -1 ...  1 -1  1]\n",
      " [-1 -1  1 ... -1  1 -1]\n",
      " ...\n",
      " [ 1  1  1 ... -1 -1  1]\n",
      " [-1 -1 -1 ... -1  1 -1]\n",
      " [-1  1  1 ... -1  1  1]]\n",
      "[ -7. -12.  -6.   1.  -9.  -0.  -9.  -2.   3.   7.  -7.  16. -18.  -7.\n",
      " -14.  22.   6.  21.  17.  -9.  11. -15.  24.  22. -26.   7. -34. -19.\n",
      "  -4. -15.  10.  14.  -7. -12. -15.  17.  12. -20.   1. -10. -25.   9.\n",
      "  13. -65. -18.  10.   3.   7.   7.  -3. -11. -16.  10.  -3. -12.   5.\n",
      "  11. -45.  -2.   3.  -1.  -9.  28.  -8.  41.  27.  36.   3. -13.  11.\n",
      "  -2.   5.  33.   4.   4.  12.  20. -11.   9.   0.  -3. -12.  -9.   9.\n",
      "   9.   0.  17. -36.   2. -24.   4.  19.  -6. -40. -14.  -0.   4.   2.\n",
      "  15. -17.   2.   1.   9.   7.   9.  -9. -16.  20.   2. -12.  -1.  -6.\n",
      " -11.  24.   7.   6. -13.  -3.  -4. -18.   9.  15.  11.  -3.  -3.   7.\n",
      " -21.  -1.   7. -13.  -2.  -2. -10. -14.   4.  17.  19. -12. -24.  10.\n",
      "  -7. -30.  12.   5.   8.  -1. -14. -23. -22.   2.  -5.  -9.   7. -39.\n",
      "  -2.   5.  11.  -6.   3.  -3.  24.  33.   6.  -0.  -6.  -4.  65. -13.\n",
      "   4.  -9.  27.   6. -32.   2. -29.  13.   3.   7.  -1. -11.   8. -22.\n",
      "   4.  28. -16.  29.   8.   5. -12.  29.   2.  30. -11.  -2.  16.  30.\n",
      "  -7.   4. -11.  13.]\n"
     ]
    }
   ],
   "source": [
    "challenge_id = 'RunxingJia78911' # identifier for hidden dataset\n",
    "n = 100 # number of entries in hidden dataset\n",
    "num_queries = 2*n # number of queries to be asked\n",
    "\n",
    "queries = np.random.choice([-1,+1], size=(num_queries,n)) # Set of random queries\n",
    "print(queries)\n",
    "query_results = query(challenge_id, queries)\n",
    "\n",
    "print(query_results)\n"
   ]
  },
  {
   "cell_type": "markdown",
   "metadata": {
    "id": "uiUoCqxtknZj"
   },
   "source": [
    "# Baseline reconstruction attack: Guess equals the best query\n",
    "\n",
    "Copy the notebook and replace with your attack. The first submission for a given challenge_id is stored on the server and on the leaderboard: http://baconbreaker.pythonanywhere.com/leaderboard/?n=100"
   ]
  },
  {
   "cell_type": "markdown",
   "metadata": {
    "id": "wBzhULS8lfJf"
   },
   "source": [
    "**Tip**: to solve a linear program you can use the following import:\n",
    "\n",
    "```\n",
    "from scipy.optimize import linprog\n",
    "```\n",
    "\n"
   ]
  },
  {
   "cell_type": "code",
   "execution_count": 10,
   "metadata": {
    "ExecuteTime": {
     "end_time": "2024-09-14T15:48:04.805258Z",
     "start_time": "2024-09-14T15:48:04.463845Z"
    },
    "colab": {
     "base_uri": "https://localhost:8080/"
    },
    "id": "KNEVYeK5klgu",
    "outputId": "ff3f94ae-591f-45ca-f909-09181cb8ffcc"
   },
   "outputs": [
    {
     "name": "stdout",
     "output_type": "stream",
     "text": [
      "\n",
      "Reconstruction attack achieves fraction 0.61 correct values\n"
     ]
    }
   ],
   "source": [
    "best_query_number = np.argmax(query_results)\n",
    "best_query = queries[best_query_number]\n",
    "best_query_result = query(challenge_id, best_query, submit=True)\n",
    "print(f\"\\nReconstruction attack achieves fraction {(1 + best_query_result / n) / 2} correct values\")"
   ]
  },
  {
   "cell_type": "code",
   "execution_count": 11,
   "metadata": {},
   "outputs": [
    {
     "name": "stdout",
     "output_type": "stream",
     "text": [
      "queries: (200, 100)\n",
      "query_results: (200,)\n",
      "c: (300,)\n",
      "A_ub: (400, 300)\n",
      "b_ub: (400,)\n",
      "(300,)\n",
      "Reconstructed x: [ 1. -1.  1. -1. -1. -1. -1. -1. -1.  1.  1.  1.  1. -1.  1. -1. -1.  1.\n",
      "  1. -1.  1.  1. -1. -1.  1.  1. -1.  1. -1.  1.  1.  1.  1. -1. -1.  1.\n",
      "  1.  1.  1. -1. -1.  1. -1. -1.  1. -1.  1. -1.  1. -1. -1. -1.  1.  1.\n",
      " -1. -1. -1.  1. -1.  1.  1.  1. -1. -1. -1.  1. -1. -1. -1. -1.  1.  1.\n",
      " -1. -1. -1.  1. -1. -1. -1.  1. -1. -1. -1.  1. -1. -1.  1. -1.  1.  1.\n",
      "  1.  1.  1.  1. -1. -1.  1.  1. -1. -1.]\n",
      "\n",
      "Reconstruction attack achieves fraction 0.94 correct values\n"
     ]
    }
   ],
   "source": [
    "import numpy as np\n",
    "from scipy.optimize import linprog\n",
    "\n",
    "n = 100        \n",
    "t = 2 * n       \n",
    "lambda_ = 10    \n",
    "challenge_id = 'RunxingJia78911'\n",
    "\n",
    "\n",
    "queries = np.random.choice([-1, 1], size=(t, n))\n",
    "print(\"queries:\",queries.shape)\n",
    "\n",
    "\n",
    "query_results = query(challenge_id, queries)\n",
    "print(\"query_results:\",query_results.shape)\n",
    "\n",
    "num_vars = n + t \n",
    "\n",
    "#Coefficients of the objective function\n",
    "c = np.hstack([np.zeros(n), np.ones(t)])\n",
    "\n",
    "print(\"c:\",c.shape)\n",
    "A_ub = []\n",
    "b_ub = []\n",
    "\n",
    "for j in range(t):\n",
    "    q = queries[j]\n",
    "    y = query_results[j]\n",
    "    \n",
    "    # q_j, x⟩ - y_j - e_j ≤ 0\n",
    "    A_row = np.hstack([q, np.zeros(t)])\n",
    "    A_row[n + j] = -1  #  -e_j\n",
    "    A_ub.append(A_row)\n",
    "    b_ub.append(y)\n",
    "    \n",
    "    # -⟨q_j, x⟩ + y_j - e_j ≤ 0\n",
    "    A_row = np.hstack([-q, np.zeros(t)])\n",
    "    A_row[n + j] = -1  #  -e_j\n",
    "    A_ub.append(A_row)\n",
    "    b_ub.append(-y)\n",
    "\n",
    "A_ub = np.array(A_ub)\n",
    "b_ub = np.array(b_ub)\n",
    "\n",
    "print(\"A_ub:\",A_ub.shape)\n",
    "print(\"b_ub:\",b_ub.shape)\n",
    "\n",
    "bounds = [(-1, 1)] * n + [(0, None)] * t\n",
    "\n",
    "result = linprog(c, A_ub=A_ub, b_ub=b_ub, bounds=bounds, method='highs')\n",
    "print(result.x.shape)\n",
    "\n",
    "if result.success:\n",
    "    x_estimated = result.x[:n]\n",
    "    #  -1 or 1\n",
    "    x_reconstructed = np.sign(x_estimated)\n",
    "    \n",
    "else:\n",
    "    print(\"fail!!!\")\n",
    "\n",
    "\n",
    "print(f\"Reconstructed x: {x_reconstructed}\")\n",
    "best_query_result = query(challenge_id, x_reconstructed, submit=True)\n",
    "print(f\"\\nReconstruction attack achieves fraction {(1 + best_query_result / n) / 2} correct values\")\n",
    "\n"
   ]
  }
 ],
 "metadata": {
  "colab": {
   "provenance": []
  },
  "kernelspec": {
   "display_name": "Python 3 (ipykernel)",
   "language": "python",
   "name": "python3"
  },
  "language_info": {
   "codemirror_mode": {
    "name": "ipython",
    "version": 3
   },
   "file_extension": ".py",
   "mimetype": "text/x-python",
   "name": "python",
   "nbconvert_exporter": "python",
   "pygments_lexer": "ipython3",
   "version": "3.8.19"
  }
 },
 "nbformat": 4,
 "nbformat_minor": 0
}
